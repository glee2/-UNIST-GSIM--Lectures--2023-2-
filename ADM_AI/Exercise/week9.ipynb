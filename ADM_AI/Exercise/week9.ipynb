{
 "cells": [
  {
   "cell_type": "markdown",
   "metadata": {},
   "source": [
    "# [BAT512] Advanced Data Mining with AI <br/><br/> 9주차(7강) 실습자료"
   ]
  },
  {
   "cell_type": "markdown",
   "metadata": {},
   "source": [
    "- 라이브러리 임포트"
   ]
  },
  {
   "cell_type": "code",
   "execution_count": 64,
   "metadata": {
    "ExecuteTime": {
     "end_time": "2023-10-27T09:16:00.160218Z",
     "start_time": "2023-10-27T09:15:54.401663Z"
    }
   },
   "outputs": [],
   "source": [
    "import torch\n",
    "import numpy as np\n",
    "import pandas as pd"
   ]
  },
  {
   "cell_type": "markdown",
   "metadata": {},
   "source": [
    "## PyTorch 기초"
   ]
  },
  {
   "cell_type": "markdown",
   "metadata": {},
   "source": [
    "### 텐서"
   ]
  },
  {
   "cell_type": "code",
   "execution_count": 2,
   "metadata": {
    "ExecuteTime": {
     "end_time": "2023-10-27T08:58:08.654690Z",
     "start_time": "2023-10-27T08:58:08.521861Z"
    }
   },
   "outputs": [
    {
     "name": "stdout",
     "output_type": "stream",
     "text": [
      "tensor([0., 1., 2., 3., 4., 5., 6.])\n"
     ]
    }
   ],
   "source": [
    "t = torch.FloatTensor([0., 1., 2., 3., 4., 5., 6.])\n",
    "print(t)"
   ]
  },
  {
   "cell_type": "code",
   "execution_count": 4,
   "metadata": {
    "ExecuteTime": {
     "end_time": "2023-10-27T08:58:12.811653Z",
     "start_time": "2023-10-27T08:58:12.802811Z"
    }
   },
   "outputs": [
    {
     "name": "stdout",
     "output_type": "stream",
     "text": [
      "1\n",
      "torch.Size([7])\n",
      "torch.Size([7])\n"
     ]
    }
   ],
   "source": [
    "print(t.dim())  # rank -> 차원\n",
    "print(t.shape)  # shape\n",
    "print(t.size()) # shape"
   ]
  },
  {
   "cell_type": "code",
   "execution_count": 5,
   "metadata": {
    "ExecuteTime": {
     "end_time": "2023-10-27T08:58:22.059962Z",
     "start_time": "2023-10-27T08:58:22.045511Z"
    }
   },
   "outputs": [
    {
     "name": "stdout",
     "output_type": "stream",
     "text": [
      "tensor([[ 1.,  2.,  3.],\n",
      "        [ 4.,  5.,  6.],\n",
      "        [ 7.,  8.,  9.],\n",
      "        [10., 11., 12.]])\n",
      "2\n",
      "torch.Size([4, 3])\n"
     ]
    }
   ],
   "source": [
    "t = torch.FloatTensor([[1., 2., 3.],\n",
    "                       [4., 5., 6.],\n",
    "                       [7., 8., 9.],\n",
    "                       [10., 11., 12.]\n",
    "                      ])\n",
    "print(t)\n",
    "print(t.dim())  \n",
    "print(t.size())"
   ]
  },
  {
   "cell_type": "markdown",
   "metadata": {},
   "source": [
    "### 텐서의 곱셈"
   ]
  },
  {
   "cell_type": "markdown",
   "metadata": {},
   "source": [
    "행렬곱"
   ]
  },
  {
   "cell_type": "code",
   "execution_count": null,
   "metadata": {},
   "outputs": [],
   "source": [
    "m1 = torch.FloatTensor([[1, 2], [3, 4]])\n",
    "m2 = torch.FloatTensor([[1], [2]])\n",
    "print('Shape of Matrix 1: ', m1.shape) # 2 x 2\n",
    "print('Shape of Matrix 2: ', m2.shape) # 2 x 1\n",
    "print(m1.matmul(m2)) # 2 x 1"
   ]
  },
  {
   "cell_type": "markdown",
   "metadata": {},
   "source": [
    "element-wise 곱"
   ]
  },
  {
   "cell_type": "code",
   "execution_count": null,
   "metadata": {},
   "outputs": [],
   "source": [
    "m1 = torch.FloatTensor([[1, 2], [3, 4]])\n",
    "m2 = torch.FloatTensor([[1], [2]])\n",
    "print('Shape of Matrix 1: ', m1.shape) # 2 x 2\n",
    "print('Shape of Matrix 2: ', m2.shape) # 2 x 1\n",
    "print(m1 * m2) # 2 x 2\n",
    "print(m1.mul(m2))"
   ]
  },
  {
   "cell_type": "markdown",
   "metadata": {},
   "source": [
    "### 텐서 형태 변형"
   ]
  },
  {
   "cell_type": "code",
   "execution_count": 38,
   "metadata": {
    "ExecuteTime": {
     "end_time": "2023-10-27T09:06:33.437616Z",
     "start_time": "2023-10-27T09:06:33.428522Z"
    }
   },
   "outputs": [
    {
     "name": "stdout",
     "output_type": "stream",
     "text": [
      "torch.Size([2, 2, 3])\n"
     ]
    }
   ],
   "source": [
    "ft = torch.FloatTensor([[[0, 1, 2],\n",
    "                       [3, 4, 5]],\n",
    "                      [[6, 7, 8],\n",
    "                       [9, 10, 11]]])\n",
    "print(ft.shape)"
   ]
  },
  {
   "cell_type": "markdown",
   "metadata": {},
   "source": [
    "3차원 텐서를 2차원으로 변경"
   ]
  },
  {
   "cell_type": "code",
   "execution_count": 10,
   "metadata": {
    "ExecuteTime": {
     "end_time": "2023-10-27T09:01:28.542701Z",
     "start_time": "2023-10-27T09:01:28.531143Z"
    }
   },
   "outputs": [
    {
     "name": "stdout",
     "output_type": "stream",
     "text": [
      "tensor([[ 0.,  1.,  2.],\n",
      "        [ 3.,  4.,  5.],\n",
      "        [ 6.,  7.,  8.],\n",
      "        [ 9., 10., 11.]])\n",
      "torch.Size([4, 3])\n"
     ]
    }
   ],
   "source": [
    "print(ft.view([-1, 3])) # ft라는 텐서를 (?, 3)의 크기로 변경\n",
    "print(ft.view([-1, 3]).shape) # (2, 2, 3) -> (2 × 2, 3) -> (4, 3)"
   ]
  },
  {
   "cell_type": "markdown",
   "metadata": {},
   "source": [
    "텐서 크기 변경"
   ]
  },
  {
   "cell_type": "code",
   "execution_count": 11,
   "metadata": {
    "ExecuteTime": {
     "end_time": "2023-10-27T09:03:25.051381Z",
     "start_time": "2023-10-27T09:03:25.040427Z"
    }
   },
   "outputs": [
    {
     "name": "stdout",
     "output_type": "stream",
     "text": [
      "tensor([[[ 0.,  1.,  2.]],\n",
      "\n",
      "        [[ 3.,  4.,  5.]],\n",
      "\n",
      "        [[ 6.,  7.,  8.]],\n",
      "\n",
      "        [[ 9., 10., 11.]]])\n",
      "torch.Size([4, 1, 3])\n"
     ]
    }
   ],
   "source": [
    "print(ft.view([-1, 1, 3]))\n",
    "print(ft.view([-1, 1, 3]).shape)"
   ]
  },
  {
   "cell_type": "markdown",
   "metadata": {},
   "source": [
    "squeeze & unsqueeze: 값이 1인 차원을 제거 혹은 추가함"
   ]
  },
  {
   "cell_type": "code",
   "execution_count": 39,
   "metadata": {
    "ExecuteTime": {
     "end_time": "2023-10-27T09:06:36.344917Z",
     "start_time": "2023-10-27T09:06:36.336848Z"
    }
   },
   "outputs": [
    {
     "name": "stdout",
     "output_type": "stream",
     "text": [
      "torch.Size([4, 1, 3])\n"
     ]
    }
   ],
   "source": [
    "ft = ft.view([-1, 1, 3])\n",
    "print(ft.shape)"
   ]
  },
  {
   "cell_type": "code",
   "execution_count": 43,
   "metadata": {
    "ExecuteTime": {
     "end_time": "2023-10-27T09:06:53.063013Z",
     "start_time": "2023-10-27T09:06:53.052603Z"
    }
   },
   "outputs": [
    {
     "name": "stdout",
     "output_type": "stream",
     "text": [
      "tensor([[ 0.,  1.,  2.],\n",
      "        [ 3.,  4.,  5.],\n",
      "        [ 6.,  7.,  8.],\n",
      "        [ 9., 10., 11.]])\n",
      "torch.Size([4, 3])\n"
     ]
    }
   ],
   "source": [
    "print(ft.squeeze())\n",
    "print(ft.squeeze().shape)"
   ]
  },
  {
   "cell_type": "code",
   "execution_count": 44,
   "metadata": {
    "ExecuteTime": {
     "end_time": "2023-10-27T09:06:58.546345Z",
     "start_time": "2023-10-27T09:06:58.535777Z"
    }
   },
   "outputs": [
    {
     "name": "stdout",
     "output_type": "stream",
     "text": [
      "tensor([[[ 0.,  1.,  2.],\n",
      "         [ 3.,  4.,  5.],\n",
      "         [ 6.,  7.,  8.],\n",
      "         [ 9., 10., 11.]]])\n",
      "torch.Size([1, 4, 3])\n"
     ]
    }
   ],
   "source": [
    "ft = ft.squeeze()\n",
    "print(ft.unsqueeze(0))\n",
    "print(ft.unsqueeze(0).shape)"
   ]
  },
  {
   "cell_type": "markdown",
   "metadata": {},
   "source": [
    "### 텐서 연결"
   ]
  },
  {
   "cell_type": "markdown",
   "metadata": {},
   "source": [
    "Concatenating"
   ]
  },
  {
   "cell_type": "code",
   "execution_count": 45,
   "metadata": {
    "ExecuteTime": {
     "end_time": "2023-10-27T09:07:46.960035Z",
     "start_time": "2023-10-27T09:07:46.949704Z"
    }
   },
   "outputs": [
    {
     "name": "stdout",
     "output_type": "stream",
     "text": [
      "torch.Size([2, 2])\n",
      "torch.Size([2, 2])\n"
     ]
    }
   ],
   "source": [
    "x = torch.FloatTensor([[1, 2], [3, 4]])\n",
    "y = torch.FloatTensor([[5, 6], [7, 8]])\n",
    "print(x.shape)\n",
    "print(y.shape)"
   ]
  },
  {
   "cell_type": "code",
   "execution_count": 46,
   "metadata": {
    "ExecuteTime": {
     "end_time": "2023-10-27T09:07:58.375966Z",
     "start_time": "2023-10-27T09:07:58.363059Z"
    }
   },
   "outputs": [
    {
     "name": "stdout",
     "output_type": "stream",
     "text": [
      "tensor([[1., 2.],\n",
      "        [3., 4.],\n",
      "        [5., 6.],\n",
      "        [7., 8.]])\n",
      "torch.Size([4, 2])\n"
     ]
    }
   ],
   "source": [
    "print(torch.cat([x, y], dim=0))\n",
    "print(torch.cat([x, y], dim=0).shape)"
   ]
  },
  {
   "cell_type": "code",
   "execution_count": 47,
   "metadata": {
    "ExecuteTime": {
     "end_time": "2023-10-27T09:08:05.203110Z",
     "start_time": "2023-10-27T09:08:05.191251Z"
    }
   },
   "outputs": [
    {
     "name": "stdout",
     "output_type": "stream",
     "text": [
      "tensor([[1., 2., 5., 6.],\n",
      "        [3., 4., 7., 8.]])\n",
      "torch.Size([2, 4])\n"
     ]
    }
   ],
   "source": [
    "print(torch.cat([x, y], dim=1))\n",
    "print(torch.cat([x, y], dim=1).shape)"
   ]
  },
  {
   "cell_type": "markdown",
   "metadata": {},
   "source": [
    "Stacking"
   ]
  },
  {
   "cell_type": "code",
   "execution_count": 48,
   "metadata": {
    "ExecuteTime": {
     "end_time": "2023-10-27T09:08:36.995986Z",
     "start_time": "2023-10-27T09:08:36.988403Z"
    }
   },
   "outputs": [],
   "source": [
    "x = torch.FloatTensor([1, 4])\n",
    "y = torch.FloatTensor([2, 5])\n",
    "z = torch.FloatTensor([3, 6])\n",
    "print(x)\n",
    "print(y)\n",
    "print(z)"
   ]
  },
  {
   "cell_type": "code",
   "execution_count": 50,
   "metadata": {
    "ExecuteTime": {
     "end_time": "2023-10-27T09:08:48.457660Z",
     "start_time": "2023-10-27T09:08:48.446956Z"
    }
   },
   "outputs": [
    {
     "name": "stdout",
     "output_type": "stream",
     "text": [
      "tensor([[1., 4.],\n",
      "        [2., 5.],\n",
      "        [3., 6.]])\n",
      "torch.Size([3, 2])\n"
     ]
    }
   ],
   "source": [
    "print(torch.stack([x, y, z]))\n",
    "print(torch.stack([x, y, z]).shape)"
   ]
  },
  {
   "cell_type": "code",
   "execution_count": 52,
   "metadata": {
    "ExecuteTime": {
     "end_time": "2023-10-27T09:08:56.465800Z",
     "start_time": "2023-10-27T09:08:56.452345Z"
    }
   },
   "outputs": [
    {
     "name": "stdout",
     "output_type": "stream",
     "text": [
      "tensor([[1., 2., 3.],\n",
      "        [4., 5., 6.]])\n",
      "torch.Size([2, 3])\n"
     ]
    }
   ],
   "source": [
    "print(torch.stack([x, y, z], dim=1))\n",
    "print(torch.stack([x, y, z], dim=1).shape)"
   ]
  },
  {
   "cell_type": "markdown",
   "metadata": {},
   "source": [
    "## PyTorch를 사용한 MLP 구현 - 다중 선형 회귀분석"
   ]
  },
  {
   "cell_type": "code",
   "execution_count": 53,
   "metadata": {
    "ExecuteTime": {
     "end_time": "2023-10-27T09:09:22.707645Z",
     "start_time": "2023-10-27T09:09:22.700096Z"
    }
   },
   "outputs": [],
   "source": [
    "import torch.nn as nn\n",
    "import torch.nn.functional as F"
   ]
  },
  {
   "cell_type": "markdown",
   "metadata": {},
   "source": [
    "### 데이터"
   ]
  },
  {
   "cell_type": "code",
   "execution_count": 204,
   "metadata": {
    "ExecuteTime": {
     "end_time": "2023-10-27T09:59:51.820202Z",
     "start_time": "2023-10-27T09:59:51.808133Z"
    }
   },
   "outputs": [
    {
     "name": "stdout",
     "output_type": "stream",
     "text": [
      "torch.Size([5, 3]) torch.Size([5, 1])\n"
     ]
    }
   ],
   "source": [
    "X_train = torch.FloatTensor([[73, 80, 75],\n",
    "                             [93, 88, 93],\n",
    "                             [89, 91, 90],\n",
    "                             [96, 98, 100],\n",
    "                             [73, 66, 70]])\n",
    "y_train = torch.FloatTensor([[152], [185], [180], [196], [142]])\n",
    "print(X_train.shape, y_train.shape)"
   ]
  },
  {
   "cell_type": "markdown",
   "metadata": {},
   "source": [
    "### 단순 구현"
   ]
  },
  {
   "cell_type": "code",
   "execution_count": 118,
   "metadata": {
    "ExecuteTime": {
     "end_time": "2023-10-27T09:22:22.883165Z",
     "start_time": "2023-10-27T09:22:22.869807Z"
    }
   },
   "outputs": [
    {
     "name": "stdout",
     "output_type": "stream",
     "text": [
      "[Parameter containing:\n",
      "tensor([[-0.3641, -0.1274, -0.1885]], requires_grad=True), Parameter containing:\n",
      "tensor([0.0146], requires_grad=True)]\n"
     ]
    }
   ],
   "source": [
    "model = nn.Linear(3,1, dtype=torch.float) # Random initialization\n",
    "print(list(model.parameters()))"
   ]
  },
  {
   "cell_type": "code",
   "execution_count": 119,
   "metadata": {
    "ExecuteTime": {
     "end_time": "2023-10-27T09:22:23.555114Z",
     "start_time": "2023-10-27T09:22:23.548194Z"
    }
   },
   "outputs": [],
   "source": [
    "optimizer = torch.optim.SGD(model.parameters(), lr=1e-5)"
   ]
  },
  {
   "cell_type": "markdown",
   "metadata": {},
   "source": [
    "모델 학습"
   ]
  },
  {
   "cell_type": "code",
   "execution_count": 133,
   "metadata": {
    "ExecuteTime": {
     "end_time": "2023-10-27T09:32:35.203764Z",
     "start_time": "2023-10-27T09:32:33.094625Z"
    },
    "scrolled": true
   },
   "outputs": [
    {
     "name": "stdout",
     "output_type": "stream",
     "text": [
      "Epoch: 0 Loss: 0.9220083951950073\n",
      "Epoch: 500 Loss: 0.8694968223571777\n",
      "Epoch: 1000 Loss: 0.8263492584228516\n",
      "Epoch: 1500 Loss: 0.7904011011123657\n",
      "Epoch: 2000 Loss: 0.7600452303886414\n",
      "Epoch: 2500 Loss: 0.7340139746665955\n",
      "Epoch: 3000 Loss: 0.7113441824913025\n",
      "Epoch: 3500 Loss: 0.691313624382019\n",
      "Epoch: 4000 Loss: 0.6733382940292358\n",
      "Epoch: 4500 Loss: 0.6570224165916443\n"
     ]
    }
   ],
   "source": [
    "n_epochs = 5000\n",
    "for epoch in range(n_epochs):\n",
    "    # 예측값 출력\n",
    "    prediction = model(X_train)\n",
    "    \n",
    "    # 손실함수 계산\n",
    "    loss = F.mse_loss(prediction, y_train)\n",
    "    \n",
    "    # Gradient 초기화\n",
    "    optimizer.zero_grad()\n",
    "    # 오류 역전파를 통한 Gradient 계산\n",
    "    loss.backward()\n",
    "    # 가중치 업데이트\n",
    "    optimizer.step()\n",
    "    \n",
    "    if epoch % 500 == 0:\n",
    "        print(f\"Epoch: {epoch} Loss: {loss.item()}\")"
   ]
  },
  {
   "cell_type": "code",
   "execution_count": 126,
   "metadata": {
    "ExecuteTime": {
     "end_time": "2023-10-27T09:24:46.303707Z",
     "start_time": "2023-10-27T09:24:46.293230Z"
    }
   },
   "outputs": [
    {
     "name": "stdout",
     "output_type": "stream",
     "text": [
      "새로운 데이터 tensor([[66., 49., 90.]])가 입력되었을 때 예측값: 141.8816375732422\n"
     ]
    }
   ],
   "source": [
    "new_sample = torch.FloatTensor([[66, 49, 90]])\n",
    "pred_y = model(new_sample)\n",
    "print(f\"새로운 데이터 {new_sample}가 입력되었을 때 예측값: {pred_y.item()}\")"
   ]
  },
  {
   "cell_type": "markdown",
   "metadata": {},
   "source": [
    "학습 후 업데이트된 가중치 확인"
   ]
  },
  {
   "cell_type": "code",
   "execution_count": 127,
   "metadata": {
    "ExecuteTime": {
     "end_time": "2023-10-27T09:26:01.101788Z",
     "start_time": "2023-10-27T09:26:01.091618Z"
    }
   },
   "outputs": [
    {
     "name": "stdout",
     "output_type": "stream",
     "text": [
      "[Parameter containing:\n",
      "tensor([[0.8112, 0.4769, 0.7215]], requires_grad=True), Parameter containing:\n",
      "tensor([0.0356], requires_grad=True)]\n"
     ]
    }
   ],
   "source": [
    "print(list(model.parameters()))"
   ]
  },
  {
   "cell_type": "markdown",
   "metadata": {},
   "source": [
    "### PyTorch Class로 구현"
   ]
  },
  {
   "cell_type": "markdown",
   "metadata": {
    "ExecuteTime": {
     "end_time": "2023-10-27T09:28:38.175026Z",
     "start_time": "2023-10-27T09:28:38.162767Z"
    }
   },
   "source": [
    "Class 형태로 PyTorch 모델을 쓰기 위해선 다음 두 가지 조건을 따라야 함\n",
    "- PyTorch 내장 모델(nn.Linear 등) 역시 이를 만족\n",
    "\n",
    "##### torch.nn.Module을 상속해야 함\n",
    "\\* interitance: 상속; 어떤 클래스를 만들 때 다른 클래스의 기능을 그대로 가지고오는 것\n",
    "\n",
    "\\* nn.Module (https://pytorch.org/docs/stable/nn.html#module)\n",
    "- PyTorch의 nn 모듈은 인공신경망을 기반으로 하는 모든 것을 포괄하는 기본 클래스(Base class)임 -> 따라서 PyTorch를 사용한 모든 신경망 모델은 nn.Module의 서브 클래스(subclass)라 할 수 있음\n",
    "\n",
    "##### \\_\\_init()\\_\\_과 forward()를 override 해야 함\n",
    "- override: 재정의; torch.nn.Module(부모클래스)에서 정의한 메소드를 자식클래스에서 변경하는 것\n",
    "- \\_\\_init()\\_\\_에서는 모델에서 사용될 module(nn.Linear, nn.Conv2d), activation function(nn.functional.relu, nn.functional.sigmoid)등을 정의함\n",
    "- forward()에서는 모델에서 실행되어야하는 계산을 정의함. backward 계산은 backward()를 이용하면 PyTorch가 자동으로 수행하므로 forward()만 정의해주면 됨. input을 넣어서 어떤 계산을 진행하여 output이 나올지를 정의하는 부분 \n",
    "\n"
   ]
  },
  {
   "cell_type": "code",
   "execution_count": 130,
   "metadata": {
    "ExecuteTime": {
     "end_time": "2023-10-27T09:32:05.555225Z",
     "start_time": "2023-10-27T09:32:05.547249Z"
    }
   },
   "outputs": [],
   "source": [
    "class MultivariateLinearRegressionModel(nn.Module):\n",
    "    def __init__(self):\n",
    "        super().__init__()\n",
    "        self.linear = nn.Linear(3, 1)\n",
    "\n",
    "    def forward(self, x):\n",
    "        return self.linear(x)"
   ]
  },
  {
   "cell_type": "code",
   "execution_count": 131,
   "metadata": {
    "ExecuteTime": {
     "end_time": "2023-10-27T09:32:05.997669Z",
     "start_time": "2023-10-27T09:32:05.990331Z"
    }
   },
   "outputs": [],
   "source": [
    "model = MultivariateLinearRegressionModel()\n",
    "optimizer = torch.optim.SGD(model.parameters(), lr=1e-5) "
   ]
  },
  {
   "cell_type": "code",
   "execution_count": 132,
   "metadata": {
    "ExecuteTime": {
     "end_time": "2023-10-27T09:32:19.582664Z",
     "start_time": "2023-10-27T09:32:17.490517Z"
    }
   },
   "outputs": [
    {
     "name": "stdout",
     "output_type": "stream",
     "text": [
      "Epoch: 0 Loss: 15703.3232421875\n",
      "Epoch: 500 Loss: 2.743265151977539\n",
      "Epoch: 1000 Loss: 2.2900092601776123\n",
      "Epoch: 1500 Loss: 1.940495252609253\n",
      "Epoch: 2000 Loss: 1.6701768636703491\n",
      "Epoch: 2500 Loss: 1.4603464603424072\n",
      "Epoch: 3000 Loss: 1.2967568635940552\n",
      "Epoch: 3500 Loss: 1.1684653759002686\n",
      "Epoch: 4000 Loss: 1.0672235488891602\n",
      "Epoch: 4500 Loss: 0.9866674542427063\n"
     ]
    }
   ],
   "source": [
    "n_epochs = 5000\n",
    "for epoch in range(n_epochs):\n",
    "    # 예측값 출력\n",
    "    prediction = model(X_train) # --> model.forward(X_train)\n",
    "    \n",
    "    # 손실함수 계산\n",
    "    loss = F.mse_loss(prediction, y_train)\n",
    "    \n",
    "    # Gradient 초기화\n",
    "    optimizer.zero_grad()\n",
    "    # 오류 역전파를 통한 Gradient 계산\n",
    "    loss.backward()\n",
    "    # 가중치 업데이트\n",
    "    optimizer.step()\n",
    "    \n",
    "    if epoch % 500 == 0:\n",
    "        print(f\"Epoch: {epoch} Loss: {loss.item()}\")"
   ]
  },
  {
   "cell_type": "markdown",
   "metadata": {},
   "source": [
    "### Mini-batch 학습"
   ]
  },
  {
   "cell_type": "markdown",
   "metadata": {},
   "source": [
    "PyTorch는 수월한 데이터 처리를 위해 데이터셋(Dataset)과 데이터로더(DataLoader) 모듈을 제공\n",
    "\n",
    "- 데이터셋과 데이터로더를 사용하여 미니 배치 학습, 데이터 셔플(shuffle), 병렬 처리 등 다양한 데이터 처리를 수행할 수 있음"
   ]
  },
  {
   "cell_type": "code",
   "execution_count": 136,
   "metadata": {
    "ExecuteTime": {
     "end_time": "2023-10-27T09:34:41.094804Z",
     "start_time": "2023-10-27T09:34:41.088349Z"
    }
   },
   "outputs": [],
   "source": [
    "from torch.utils.data import TensorDataset \n",
    "from torch.utils.data import DataLoader "
   ]
  },
  {
   "cell_type": "markdown",
   "metadata": {},
   "source": [
    "데이터셋 정의"
   ]
  },
  {
   "cell_type": "code",
   "execution_count": 205,
   "metadata": {
    "ExecuteTime": {
     "end_time": "2023-10-27T09:59:57.065492Z",
     "start_time": "2023-10-27T09:59:57.058873Z"
    }
   },
   "outputs": [],
   "source": [
    "dataset = TensorDataset(X_train, y_train)"
   ]
  },
  {
   "cell_type": "code",
   "execution_count": 206,
   "metadata": {
    "ExecuteTime": {
     "end_time": "2023-10-27T09:59:57.563163Z",
     "start_time": "2023-10-27T09:59:57.550154Z"
    }
   },
   "outputs": [
    {
     "data": {
      "text/plain": [
       "(tensor([[ 73.,  80.,  75.],\n",
       "         [ 93.,  88.,  93.],\n",
       "         [ 89.,  91.,  90.],\n",
       "         [ 96.,  98., 100.],\n",
       "         [ 73.,  66.,  70.]]),\n",
       " tensor([[152.],\n",
       "         [185.],\n",
       "         [180.],\n",
       "         [196.],\n",
       "         [142.]]))"
      ]
     },
     "execution_count": 206,
     "metadata": {},
     "output_type": "execute_result"
    }
   ],
   "source": [
    "dataset.tensors"
   ]
  },
  {
   "cell_type": "markdown",
   "metadata": {},
   "source": [
    "데이터로더에 데이터셋 전달"
   ]
  },
  {
   "cell_type": "code",
   "execution_count": 207,
   "metadata": {
    "ExecuteTime": {
     "end_time": "2023-10-27T09:59:58.591735Z",
     "start_time": "2023-10-27T09:59:58.584486Z"
    }
   },
   "outputs": [],
   "source": [
    "dataloader = DataLoader(dataset, batch_size= 2, shuffle=True)"
   ]
  },
  {
   "cell_type": "markdown",
   "metadata": {
    "ExecuteTime": {
     "end_time": "2023-10-27T09:35:24.943209Z",
     "start_time": "2023-10-27T09:35:24.934449Z"
    }
   },
   "source": [
    "데이터로더로부터 미니 배치 추출"
   ]
  },
  {
   "cell_type": "code",
   "execution_count": 208,
   "metadata": {
    "ExecuteTime": {
     "end_time": "2023-10-27T09:59:59.657041Z",
     "start_time": "2023-10-27T09:59:59.643194Z"
    }
   },
   "outputs": [
    {
     "data": {
      "text/plain": [
       "[tensor([[93., 88., 93.],\n",
       "         [73., 80., 75.]]),\n",
       " tensor([[185.],\n",
       "         [152.]])]"
      ]
     },
     "execution_count": 208,
     "metadata": {},
     "output_type": "execute_result"
    }
   ],
   "source": [
    "next(iter(dataloader))"
   ]
  },
  {
   "cell_type": "markdown",
   "metadata": {},
   "source": [
    "데이터셋과 데이터로더의 크기"
   ]
  },
  {
   "cell_type": "code",
   "execution_count": 211,
   "metadata": {
    "ExecuteTime": {
     "end_time": "2023-10-27T10:00:27.440165Z",
     "start_time": "2023-10-27T10:00:27.430261Z"
    }
   },
   "outputs": [
    {
     "name": "stdout",
     "output_type": "stream",
     "text": [
      "Dataset size: 5\n",
      "DataLoader size: 3\n"
     ]
    }
   ],
   "source": [
    "print(\"Dataset size:\",len(dataset))\n",
    "print(\"DataLoader size:\", len(dataloader)) # 2, 2, 1"
   ]
  },
  {
   "cell_type": "markdown",
   "metadata": {},
   "source": [
    "미니 배치 학습 수행"
   ]
  },
  {
   "cell_type": "code",
   "execution_count": 152,
   "metadata": {
    "ExecuteTime": {
     "end_time": "2023-10-27T09:39:23.357062Z",
     "start_time": "2023-10-27T09:39:23.349463Z"
    }
   },
   "outputs": [],
   "source": [
    "model = MultivariateLinearRegressionModel()\n",
    "optimizer = torch.optim.SGD(model.parameters(), lr=1e-5) "
   ]
  },
  {
   "cell_type": "code",
   "execution_count": 153,
   "metadata": {
    "ExecuteTime": {
     "end_time": "2023-10-27T09:39:24.022416Z",
     "start_time": "2023-10-27T09:39:23.929757Z"
    },
    "scrolled": true
   },
   "outputs": [
    {
     "name": "stdout",
     "output_type": "stream",
     "text": [
      "batch_idx: 0,\n",
      "batch_samples: [tensor([[73., 66., 70.],\n",
      "        [93., 88., 93.]]), tensor([[142.],\n",
      "        [185.]])]\n",
      "Epoch: 0/10 Loss: 24697.107421875\n",
      "\n",
      "batch_idx: 1,\n",
      "batch_samples: [tensor([[ 89.,  91.,  90.],\n",
      "        [ 96.,  98., 100.]]), tensor([[180.],\n",
      "        [196.]])]\n",
      "Epoch: 0/10 Loss: 11383.7490234375\n",
      "\n",
      "batch_idx: 2,\n",
      "batch_samples: [tensor([[73., 80., 75.]]), tensor([[152.]])]\n",
      "Epoch: 0/10 Loss: 1541.340576171875\n",
      "\n",
      "batch_idx: 0,\n",
      "batch_samples: [tensor([[73., 80., 75.],\n",
      "        [73., 66., 70.]]), tensor([[152.],\n",
      "        [142.]])]\n",
      "Epoch: 1/10 Loss: 700.5955810546875\n",
      "\n",
      "batch_idx: 1,\n",
      "batch_samples: [tensor([[ 93.,  88.,  93.],\n",
      "        [ 96.,  98., 100.]]), tensor([[185.],\n",
      "        [196.]])]\n",
      "Epoch: 1/10 Loss: 582.7447509765625\n",
      "\n",
      "batch_idx: 2,\n",
      "batch_samples: [tensor([[89., 91., 90.]]), tensor([[180.]])]\n",
      "Epoch: 1/10 Loss: 72.16468048095703\n",
      "\n",
      "batch_idx: 0,\n",
      "batch_samples: [tensor([[ 96.,  98., 100.],\n",
      "        [ 73.,  80.,  75.]]), tensor([[196.],\n",
      "        [152.]])]\n",
      "Epoch: 2/10 Loss: 21.074504852294922\n",
      "\n",
      "batch_idx: 1,\n",
      "batch_samples: [tensor([[89., 91., 90.],\n",
      "        [93., 88., 93.]]), tensor([[180.],\n",
      "        [185.]])]\n",
      "Epoch: 2/10 Loss: 18.702392578125\n",
      "\n",
      "batch_idx: 2,\n",
      "batch_samples: [tensor([[73., 66., 70.]]), tensor([[142.]])]\n",
      "Epoch: 2/10 Loss: 11.09928035736084\n",
      "\n",
      "batch_idx: 0,\n",
      "batch_samples: [tensor([[ 96.,  98., 100.],\n",
      "        [ 89.,  91.,  90.]]), tensor([[196.],\n",
      "        [180.]])]\n",
      "Epoch: 3/10 Loss: 0.47077134251594543\n",
      "\n",
      "batch_idx: 1,\n",
      "batch_samples: [tensor([[73., 66., 70.],\n",
      "        [73., 80., 75.]]), tensor([[142.],\n",
      "        [152.]])]\n",
      "Epoch: 3/10 Loss: 4.141817569732666\n",
      "\n",
      "batch_idx: 2,\n",
      "batch_samples: [tensor([[93., 88., 93.]]), tensor([[185.]])]\n",
      "Epoch: 3/10 Loss: 6.176517486572266\n",
      "\n",
      "batch_idx: 0,\n",
      "batch_samples: [tensor([[89., 91., 90.],\n",
      "        [73., 66., 70.]]), tensor([[180.],\n",
      "        [142.]])]\n",
      "Epoch: 4/10 Loss: 3.35933780670166\n",
      "\n",
      "batch_idx: 1,\n",
      "batch_samples: [tensor([[ 93.,  88.,  93.],\n",
      "        [ 96.,  98., 100.]]), tensor([[185.],\n",
      "        [196.]])]\n",
      "Epoch: 4/10 Loss: 1.6705889701843262\n",
      "\n",
      "batch_idx: 2,\n",
      "batch_samples: [tensor([[73., 80., 75.]]), tensor([[152.]])]\n",
      "Epoch: 4/10 Loss: 5.789011001586914\n",
      "\n",
      "batch_idx: 0,\n",
      "batch_samples: [tensor([[ 96.,  98., 100.],\n",
      "        [ 73.,  66.,  70.]]), tensor([[196.],\n",
      "        [142.]])]\n",
      "Epoch: 5/10 Loss: 2.7092761993408203\n",
      "\n",
      "batch_idx: 1,\n",
      "batch_samples: [tensor([[93., 88., 93.],\n",
      "        [73., 80., 75.]]), tensor([[185.],\n",
      "        [152.]])]\n",
      "Epoch: 5/10 Loss: 3.8102498054504395\n",
      "\n",
      "batch_idx: 2,\n",
      "batch_samples: [tensor([[89., 91., 90.]]), tensor([[180.]])]\n",
      "Epoch: 5/10 Loss: 2.303182363510132\n",
      "\n",
      "batch_idx: 0,\n",
      "batch_samples: [tensor([[73., 80., 75.],\n",
      "        [73., 66., 70.]]), tensor([[152.],\n",
      "        [142.]])]\n",
      "Epoch: 6/10 Loss: 4.074639320373535\n",
      "\n",
      "batch_idx: 1,\n",
      "batch_samples: [tensor([[ 96.,  98., 100.],\n",
      "        [ 93.,  88.,  93.]]), tensor([[196.],\n",
      "        [185.]])]\n",
      "Epoch: 6/10 Loss: 2.981825351715088\n",
      "\n",
      "batch_idx: 2,\n",
      "batch_samples: [tensor([[89., 91., 90.]]), tensor([[180.]])]\n",
      "Epoch: 6/10 Loss: 2.436497211456299\n",
      "\n",
      "batch_idx: 0,\n",
      "batch_samples: [tensor([[ 93.,  88.,  93.],\n",
      "        [ 96.,  98., 100.]]), tensor([[185.],\n",
      "        [196.]])]\n",
      "Epoch: 7/10 Loss: 3.4127731323242188\n",
      "\n",
      "batch_idx: 1,\n",
      "batch_samples: [tensor([[89., 91., 90.],\n",
      "        [73., 66., 70.]]), tensor([[180.],\n",
      "        [142.]])]\n",
      "Epoch: 7/10 Loss: 3.006661891937256\n",
      "\n",
      "batch_idx: 2,\n",
      "batch_samples: [tensor([[73., 80., 75.]]), tensor([[152.]])]\n",
      "Epoch: 7/10 Loss: 3.9074628353118896\n",
      "\n",
      "batch_idx: 0,\n",
      "batch_samples: [tensor([[ 96.,  98., 100.],\n",
      "        [ 73.,  80.,  75.]]), tensor([[196.],\n",
      "        [152.]])]\n",
      "Epoch: 8/10 Loss: 0.8725988268852234\n",
      "\n",
      "batch_idx: 1,\n",
      "batch_samples: [tensor([[93., 88., 93.],\n",
      "        [73., 66., 70.]]), tensor([[185.],\n",
      "        [142.]])]\n",
      "Epoch: 8/10 Loss: 7.973598957061768\n",
      "\n",
      "batch_idx: 2,\n",
      "batch_samples: [tensor([[89., 91., 90.]]), tensor([[180.]])]\n",
      "Epoch: 8/10 Loss: 2.962972640991211\n",
      "\n",
      "batch_idx: 0,\n",
      "batch_samples: [tensor([[ 89.,  91.,  90.],\n",
      "        [ 96.,  98., 100.]]), tensor([[180.],\n",
      "        [196.]])]\n",
      "Epoch: 9/10 Loss: 0.3929996192455292\n",
      "\n",
      "batch_idx: 1,\n",
      "batch_samples: [tensor([[93., 88., 93.],\n",
      "        [73., 80., 75.]]), tensor([[185.],\n",
      "        [152.]])]\n",
      "Epoch: 9/10 Loss: 4.544776439666748\n",
      "\n",
      "batch_idx: 2,\n",
      "batch_samples: [tensor([[73., 66., 70.]]), tensor([[142.]])]\n",
      "Epoch: 9/10 Loss: 5.069093704223633\n",
      "\n"
     ]
    }
   ],
   "source": [
    "n_epochs = 10\n",
    "for epoch in range(n_epochs):\n",
    "    for batch_idx, batch_samples in enumerate(dataloader):\n",
    "        print(f\"batch_idx: {batch_idx},\\nbatch_samples: {batch_samples}\")\n",
    "        X_train, y_train = batch_samples\n",
    "        \n",
    "        # 예측값 출력\n",
    "        prediction = model(X_train) # --> model.forward(X_train)\n",
    "\n",
    "        # 손실함수 계산\n",
    "        loss = F.mse_loss(prediction, y_train)\n",
    "\n",
    "        # Gradient 초기화\n",
    "        optimizer.zero_grad()\n",
    "        # 오류 역전파를 통한 Gradient 계산\n",
    "        loss.backward()\n",
    "        # 가중치 업데이트\n",
    "        optimizer.step()\n",
    "\n",
    "        print(f\"Epoch: {epoch}/{n_epochs} Loss: {loss.item()}\\n\")"
   ]
  },
  {
   "cell_type": "markdown",
   "metadata": {},
   "source": [
    "## PyTorch를 사용한 MLP 구현 - 로지스틱 회귀분석(단일 퍼셉트론)"
   ]
  },
  {
   "cell_type": "markdown",
   "metadata": {},
   "source": [
    "### 데이터"
   ]
  },
  {
   "cell_type": "code",
   "execution_count": 166,
   "metadata": {
    "ExecuteTime": {
     "end_time": "2023-10-27T09:47:41.379886Z",
     "start_time": "2023-10-27T09:47:41.368579Z"
    }
   },
   "outputs": [],
   "source": [
    "X_train = torch.FloatTensor([[1, 2], [2, 3], [3, 1], [4, 3], [5, 3], [6, 2]])\n",
    "y_train = torch.FloatTensor([[0], [0], [0], [1], [1], [1]])\n",
    "\n",
    "dataset = TensorDataset(X_train, y_train)\n",
    "dataloader = DataLoader(dataset, batch_size=2, shuffle=True)"
   ]
  },
  {
   "cell_type": "markdown",
   "metadata": {},
   "source": [
    "### 모델 구축 및 학습"
   ]
  },
  {
   "cell_type": "code",
   "execution_count": 167,
   "metadata": {
    "ExecuteTime": {
     "end_time": "2023-10-27T09:47:42.071220Z",
     "start_time": "2023-10-27T09:47:42.063115Z"
    }
   },
   "outputs": [],
   "source": [
    "class SinglePerceptron(nn.Module):\n",
    "    def __init__(self):\n",
    "        super().__init__()\n",
    "        self.linear = nn.Linear(2, 1)\n",
    "        self.sigmoid = nn.Sigmoid()\n",
    "\n",
    "    def forward(self, x):\n",
    "        return self.sigmoid(self.linear(x))"
   ]
  },
  {
   "cell_type": "code",
   "execution_count": 168,
   "metadata": {
    "ExecuteTime": {
     "end_time": "2023-10-27T09:47:42.487924Z",
     "start_time": "2023-10-27T09:47:42.478003Z"
    }
   },
   "outputs": [],
   "source": [
    "model = SinglePerceptron()\n",
    "optimizer = torch.optim.SGD(model.parameters(), lr=1e-5) "
   ]
  },
  {
   "cell_type": "code",
   "execution_count": 174,
   "metadata": {
    "ExecuteTime": {
     "end_time": "2023-10-27T09:48:17.662312Z",
     "start_time": "2023-10-27T09:48:13.271263Z"
    },
    "scrolled": true
   },
   "outputs": [
    {
     "name": "stdout",
     "output_type": "stream",
     "text": [
      "Epoch: 0/2000 Loss: 0.5697183609008789\n",
      "\n",
      "Epoch: 100/2000 Loss: 0.9180656671524048\n",
      "\n",
      "Epoch: 200/2000 Loss: 1.1139137744903564\n",
      "\n",
      "Epoch: 300/2000 Loss: 0.9576201438903809\n",
      "\n",
      "Epoch: 400/2000 Loss: 0.9506452679634094\n",
      "\n",
      "Epoch: 500/2000 Loss: 0.8936256170272827\n",
      "\n",
      "Epoch: 600/2000 Loss: 0.8665769696235657\n",
      "\n",
      "Epoch: 700/2000 Loss: 0.882320761680603\n",
      "\n",
      "Epoch: 800/2000 Loss: 0.7856621742248535\n",
      "\n",
      "Epoch: 900/2000 Loss: 0.8777483701705933\n",
      "\n",
      "Epoch: 1000/2000 Loss: 0.9648956060409546\n",
      "\n",
      "Epoch: 1100/2000 Loss: 0.8408793210983276\n",
      "\n",
      "Epoch: 1200/2000 Loss: 0.7546354532241821\n",
      "\n",
      "Epoch: 1300/2000 Loss: 0.9314188957214355\n",
      "\n",
      "Epoch: 1400/2000 Loss: 0.8471120595932007\n",
      "\n",
      "Epoch: 1500/2000 Loss: 0.8493369817733765\n",
      "\n",
      "Epoch: 1600/2000 Loss: 0.7105743885040283\n",
      "\n",
      "Epoch: 1700/2000 Loss: 0.9224957823753357\n",
      "\n",
      "Epoch: 1800/2000 Loss: 0.7612756490707397\n",
      "\n",
      "Epoch: 1900/2000 Loss: 0.8631608486175537\n",
      "\n"
     ]
    }
   ],
   "source": [
    "n_epochs = 2000\n",
    "for epoch in range(n_epochs):\n",
    "    for batch_idx, batch_samples in enumerate(dataloader):\n",
    "        X_batch, y_batch = batch_samples\n",
    "        \n",
    "        # 예측값 출력\n",
    "        prediction = model(X_batch) # --> model.forward(X_train)\n",
    "\n",
    "        # 손실함수 계산\n",
    "        loss = F.binary_cross_entropy(prediction, y_batch)\n",
    "\n",
    "        # Gradient 초기화\n",
    "        optimizer.zero_grad()\n",
    "        # 오류 역전파를 통한 Gradient 계산\n",
    "        loss.backward()\n",
    "        # 가중치 업데이트\n",
    "        optimizer.step()\n",
    "        \n",
    "    if epoch % 100 == 0:\n",
    "        print(f\"Epoch: {epoch}/{n_epochs} Loss: {loss.item()}\\n\")"
   ]
  },
  {
   "cell_type": "code",
   "execution_count": 175,
   "metadata": {
    "ExecuteTime": {
     "end_time": "2023-10-27T09:48:19.206704Z",
     "start_time": "2023-10-27T09:48:19.188569Z"
    }
   },
   "outputs": [
    {
     "name": "stdout",
     "output_type": "stream",
     "text": [
      "모델의 출력값(Hypothesis):  [[0.5328601 ]\n",
      " [0.4973539 ]\n",
      " [0.47820875]\n",
      " [0.43750492]\n",
      " [0.40814248]\n",
      " [0.38458192]] \n",
      "\n",
      "모델의 예측값(Predicted):  [[1.]\n",
      " [0.]\n",
      " [0.]\n",
      " [0.]\n",
      " [0.]\n",
      " [0.]] \n",
      "\n",
      "실제값(Y):  [[0.]\n",
      " [0.]\n",
      " [0.]\n",
      " [1.]\n",
      " [1.]\n",
      " [1.]] \n",
      "\n",
      "정확도(Accuracy):  0.3333333432674408\n"
     ]
    }
   ],
   "source": [
    "with torch.no_grad():\n",
    "    prediction = model(X_train)\n",
    "    pred_y = (prediction > 0.5).float()\n",
    "    accuracy = (pred_y == y_train).float().mean()\n",
    "    print('모델의 출력값(Hypothesis): ', prediction.detach().cpu().numpy(), \"\\n\")\n",
    "    print('모델의 예측값(Predicted): ', pred_y.detach().cpu().numpy(), \"\\n\")\n",
    "    print('실제값(Y): ', y_train.cpu().numpy(), \"\\n\")\n",
    "    print('정확도(Accuracy): ', accuracy.item())"
   ]
  },
  {
   "cell_type": "markdown",
   "metadata": {},
   "source": [
    "## PyTorch를 사용한 MLP 구현 - 다층 퍼셉트론"
   ]
  },
  {
   "cell_type": "markdown",
   "metadata": {},
   "source": [
    "### 데이터"
   ]
  },
  {
   "cell_type": "markdown",
   "metadata": {},
   "source": [
    "- 캘리포니아 집값 예측 데이터(Scikit-learn 제공)"
   ]
  },
  {
   "cell_type": "code",
   "execution_count": 212,
   "metadata": {
    "ExecuteTime": {
     "end_time": "2023-10-27T10:00:53.663582Z",
     "start_time": "2023-10-27T10:00:53.633061Z"
    }
   },
   "outputs": [],
   "source": [
    "from sklearn.datasets import fetch_california_housing\n",
    "rawdata = fetch_california_housing()"
   ]
  },
  {
   "cell_type": "code",
   "execution_count": 213,
   "metadata": {
    "ExecuteTime": {
     "end_time": "2023-10-27T10:00:53.672330Z",
     "start_time": "2023-10-27T10:00:53.667255Z"
    }
   },
   "outputs": [],
   "source": [
    "data_target = np.concatenate([rawdata[\"data\"], rawdata[\"target\"].reshape(-1,1)], axis=1)"
   ]
  },
  {
   "cell_type": "code",
   "execution_count": 214,
   "metadata": {
    "ExecuteTime": {
     "end_time": "2023-10-27T10:00:53.686569Z",
     "start_time": "2023-10-27T10:00:53.674948Z"
    }
   },
   "outputs": [],
   "source": [
    "independent_variables = rawdata[\"feature_names\"]\n",
    "dependent_variable = [\"Target\"]\n",
    "feature_list = independent_variables+dependent_variable"
   ]
  },
  {
   "cell_type": "code",
   "execution_count": 215,
   "metadata": {
    "ExecuteTime": {
     "end_time": "2023-10-27T10:00:53.700201Z",
     "start_time": "2023-10-27T10:00:53.689168Z"
    }
   },
   "outputs": [],
   "source": [
    "data = pd.DataFrame(data_target, columns=feature_list)"
   ]
  },
  {
   "cell_type": "code",
   "execution_count": 216,
   "metadata": {
    "ExecuteTime": {
     "end_time": "2023-10-27T10:00:53.727153Z",
     "start_time": "2023-10-27T10:00:53.704175Z"
    },
    "scrolled": true
   },
   "outputs": [
    {
     "data": {
      "text/html": [
       "<div>\n",
       "<style scoped>\n",
       "    .dataframe tbody tr th:only-of-type {\n",
       "        vertical-align: middle;\n",
       "    }\n",
       "\n",
       "    .dataframe tbody tr th {\n",
       "        vertical-align: top;\n",
       "    }\n",
       "\n",
       "    .dataframe thead th {\n",
       "        text-align: right;\n",
       "    }\n",
       "</style>\n",
       "<table border=\"1\" class=\"dataframe\">\n",
       "  <thead>\n",
       "    <tr style=\"text-align: right;\">\n",
       "      <th></th>\n",
       "      <th>MedInc</th>\n",
       "      <th>HouseAge</th>\n",
       "      <th>AveRooms</th>\n",
       "      <th>AveBedrms</th>\n",
       "      <th>Population</th>\n",
       "      <th>AveOccup</th>\n",
       "      <th>Latitude</th>\n",
       "      <th>Longitude</th>\n",
       "      <th>Target</th>\n",
       "    </tr>\n",
       "  </thead>\n",
       "  <tbody>\n",
       "    <tr>\n",
       "      <th>0</th>\n",
       "      <td>8.3252</td>\n",
       "      <td>41.0</td>\n",
       "      <td>6.984127</td>\n",
       "      <td>1.023810</td>\n",
       "      <td>322.0</td>\n",
       "      <td>2.555556</td>\n",
       "      <td>37.88</td>\n",
       "      <td>-122.23</td>\n",
       "      <td>4.526</td>\n",
       "    </tr>\n",
       "    <tr>\n",
       "      <th>1</th>\n",
       "      <td>8.3014</td>\n",
       "      <td>21.0</td>\n",
       "      <td>6.238137</td>\n",
       "      <td>0.971880</td>\n",
       "      <td>2401.0</td>\n",
       "      <td>2.109842</td>\n",
       "      <td>37.86</td>\n",
       "      <td>-122.22</td>\n",
       "      <td>3.585</td>\n",
       "    </tr>\n",
       "    <tr>\n",
       "      <th>2</th>\n",
       "      <td>7.2574</td>\n",
       "      <td>52.0</td>\n",
       "      <td>8.288136</td>\n",
       "      <td>1.073446</td>\n",
       "      <td>496.0</td>\n",
       "      <td>2.802260</td>\n",
       "      <td>37.85</td>\n",
       "      <td>-122.24</td>\n",
       "      <td>3.521</td>\n",
       "    </tr>\n",
       "    <tr>\n",
       "      <th>3</th>\n",
       "      <td>5.6431</td>\n",
       "      <td>52.0</td>\n",
       "      <td>5.817352</td>\n",
       "      <td>1.073059</td>\n",
       "      <td>558.0</td>\n",
       "      <td>2.547945</td>\n",
       "      <td>37.85</td>\n",
       "      <td>-122.25</td>\n",
       "      <td>3.413</td>\n",
       "    </tr>\n",
       "    <tr>\n",
       "      <th>4</th>\n",
       "      <td>3.8462</td>\n",
       "      <td>52.0</td>\n",
       "      <td>6.281853</td>\n",
       "      <td>1.081081</td>\n",
       "      <td>565.0</td>\n",
       "      <td>2.181467</td>\n",
       "      <td>37.85</td>\n",
       "      <td>-122.25</td>\n",
       "      <td>3.422</td>\n",
       "    </tr>\n",
       "  </tbody>\n",
       "</table>\n",
       "</div>"
      ],
      "text/plain": [
       "   MedInc  HouseAge  AveRooms  AveBedrms  Population  AveOccup  Latitude  \\\n",
       "0  8.3252      41.0  6.984127   1.023810       322.0  2.555556     37.88   \n",
       "1  8.3014      21.0  6.238137   0.971880      2401.0  2.109842     37.86   \n",
       "2  7.2574      52.0  8.288136   1.073446       496.0  2.802260     37.85   \n",
       "3  5.6431      52.0  5.817352   1.073059       558.0  2.547945     37.85   \n",
       "4  3.8462      52.0  6.281853   1.081081       565.0  2.181467     37.85   \n",
       "\n",
       "   Longitude  Target  \n",
       "0    -122.23   4.526  \n",
       "1    -122.22   3.585  \n",
       "2    -122.24   3.521  \n",
       "3    -122.25   3.413  \n",
       "4    -122.25   3.422  "
      ]
     },
     "execution_count": 216,
     "metadata": {},
     "output_type": "execute_result"
    }
   ],
   "source": [
    "data.head()"
   ]
  },
  {
   "cell_type": "code",
   "execution_count": 217,
   "metadata": {
    "ExecuteTime": {
     "end_time": "2023-10-27T10:00:53.741999Z",
     "start_time": "2023-10-27T10:00:53.729407Z"
    }
   },
   "outputs": [],
   "source": [
    "X = torch.tensor(data[independent_variables].values, dtype=torch.float)"
   ]
  },
  {
   "cell_type": "code",
   "execution_count": 218,
   "metadata": {
    "ExecuteTime": {
     "end_time": "2023-10-27T10:00:53.755690Z",
     "start_time": "2023-10-27T10:00:53.744199Z"
    },
    "scrolled": false
   },
   "outputs": [
    {
     "data": {
      "text/plain": [
       "tensor([[   8.3252,   41.0000,    6.9841,  ...,    2.5556,   37.8800,\n",
       "         -122.2300],\n",
       "        [   8.3014,   21.0000,    6.2381,  ...,    2.1098,   37.8600,\n",
       "         -122.2200],\n",
       "        [   7.2574,   52.0000,    8.2881,  ...,    2.8023,   37.8500,\n",
       "         -122.2400],\n",
       "        ...,\n",
       "        [   1.7000,   17.0000,    5.2055,  ...,    2.3256,   39.4300,\n",
       "         -121.2200],\n",
       "        [   1.8672,   18.0000,    5.3295,  ...,    2.1232,   39.4300,\n",
       "         -121.3200],\n",
       "        [   2.3886,   16.0000,    5.2547,  ...,    2.6170,   39.3700,\n",
       "         -121.2400]])"
      ]
     },
     "execution_count": 218,
     "metadata": {},
     "output_type": "execute_result"
    }
   ],
   "source": [
    "X"
   ]
  },
  {
   "cell_type": "code",
   "execution_count": 234,
   "metadata": {
    "ExecuteTime": {
     "end_time": "2023-10-27T10:02:27.124815Z",
     "start_time": "2023-10-27T10:02:27.117075Z"
    }
   },
   "outputs": [],
   "source": [
    "y = torch.tensor(data[\"Target\"].values, dtype=torch.float)\n",
    "y = y.view(-1, 1)"
   ]
  },
  {
   "cell_type": "markdown",
   "metadata": {},
   "source": [
    "### 데이터셋 분할"
   ]
  },
  {
   "cell_type": "markdown",
   "metadata": {
    "ExecuteTime": {
     "end_time": "2023-09-22T11:52:23.500641Z",
     "start_time": "2023-09-22T11:52:23.453550Z"
    }
   },
   "source": [
    "- Training/Test 데이터셋 분할"
   ]
  },
  {
   "cell_type": "code",
   "execution_count": 237,
   "metadata": {
    "ExecuteTime": {
     "end_time": "2023-10-27T10:02:35.109441Z",
     "start_time": "2023-10-27T10:02:35.103299Z"
    }
   },
   "outputs": [],
   "source": [
    "from sklearn.model_selection import train_test_split"
   ]
  },
  {
   "cell_type": "code",
   "execution_count": 238,
   "metadata": {
    "ExecuteTime": {
     "end_time": "2023-10-27T10:02:35.510009Z",
     "start_time": "2023-10-27T10:02:35.501199Z"
    }
   },
   "outputs": [
    {
     "name": "stdout",
     "output_type": "stream",
     "text": [
      "X: torch.Size([20640, 8]) y: torch.Size([20640, 1])\n"
     ]
    }
   ],
   "source": [
    "print(\"X:\",X.shape,\"y:\",y.shape)"
   ]
  },
  {
   "cell_type": "code",
   "execution_count": 239,
   "metadata": {
    "ExecuteTime": {
     "end_time": "2023-10-27T10:02:36.162021Z",
     "start_time": "2023-10-27T10:02:36.135287Z"
    }
   },
   "outputs": [],
   "source": [
    "X_train, X_test, y_train, y_test = train_test_split(X, y, test_size=0.2)"
   ]
  },
  {
   "cell_type": "code",
   "execution_count": 240,
   "metadata": {
    "ExecuteTime": {
     "end_time": "2023-10-27T10:02:36.666385Z",
     "start_time": "2023-10-27T10:02:36.656990Z"
    },
    "scrolled": true
   },
   "outputs": [
    {
     "name": "stdout",
     "output_type": "stream",
     "text": [
      "X_train: torch.Size([16512, 8]) y_train: torch.Size([16512, 1]) \n",
      "X_test: torch.Size([4128, 8]) y_test: torch.Size([4128, 1])\n"
     ]
    }
   ],
   "source": [
    "print(\"X_train:\",X_train.shape,\"y_train:\",y_train.shape,\"\\nX_test:\",X_test.shape,\"y_test:\",y_test.shape)"
   ]
  },
  {
   "cell_type": "code",
   "execution_count": 241,
   "metadata": {
    "ExecuteTime": {
     "end_time": "2023-10-27T10:02:39.040198Z",
     "start_time": "2023-10-27T10:02:39.032599Z"
    }
   },
   "outputs": [],
   "source": [
    "dataset = TensorDataset(X_train, y_train)\n",
    "dataloader = DataLoader(dataset, batch_size=128, shuffle=True)"
   ]
  },
  {
   "cell_type": "code",
   "execution_count": 242,
   "metadata": {
    "ExecuteTime": {
     "end_time": "2023-10-27T10:02:40.045514Z",
     "start_time": "2023-10-27T10:02:40.036826Z"
    }
   },
   "outputs": [
    {
     "name": "stdout",
     "output_type": "stream",
     "text": [
      "Dataset size: 16512\n",
      "DataLoader size: 129\n"
     ]
    }
   ],
   "source": [
    "print(\"Dataset size:\",len(dataset))\n",
    "print(\"DataLoader size:\", len(dataloader))"
   ]
  },
  {
   "cell_type": "markdown",
   "metadata": {},
   "source": [
    "### 모델 구축"
   ]
  },
  {
   "cell_type": "code",
   "execution_count": 303,
   "metadata": {
    "ExecuteTime": {
     "end_time": "2023-10-27T10:13:14.978471Z",
     "start_time": "2023-10-27T10:13:14.967834Z"
    }
   },
   "outputs": [],
   "source": [
    "class MLP(nn.Module):\n",
    "    def __init__(self):\n",
    "        super().__init__()\n",
    "        self.input_layer = nn.Sequential(\n",
    "                        nn.Linear(8, 16),\n",
    "                        nn.Sigmoid())\n",
    "        self.hidden_layer1 = nn.Sequential(\n",
    "                        nn.Linear(16, 32),\n",
    "                        nn.Sigmoid())\n",
    "        self.hidden_layer2 = nn.Sequential(\n",
    "                        nn.Linear(32, 16),\n",
    "                        nn.Sigmoid())\n",
    "        self.output_layer = nn.Linear(16, 1)\n",
    "\n",
    "    def forward(self, x):\n",
    "        h1 = self.input_layer(x)\n",
    "        h2 = self.hidden_layer1(h1)\n",
    "        h3 = self.hidden_layer2(h2)\n",
    "        output = self.output_layer(h3)\n",
    "        return output"
   ]
  },
  {
   "cell_type": "code",
   "execution_count": 304,
   "metadata": {
    "ExecuteTime": {
     "end_time": "2023-10-27T10:13:15.907058Z",
     "start_time": "2023-10-27T10:13:15.898250Z"
    }
   },
   "outputs": [],
   "source": [
    "model = MLP()\n",
    "criterion = nn.MSELoss()\n",
    "optimizer = torch.optim.Adam(model.parameters(), lr=1e-5)"
   ]
  },
  {
   "cell_type": "code",
   "execution_count": 305,
   "metadata": {
    "ExecuteTime": {
     "end_time": "2023-10-27T10:13:46.610559Z",
     "start_time": "2023-10-27T10:13:16.312635Z"
    },
    "scrolled": true
   },
   "outputs": [
    {
     "name": "stdout",
     "output_type": "stream",
     "text": [
      "Epoch: 10/100 Loss: 7.313523769378662\n",
      "\n",
      "Epoch: 20/100 Loss: 6.617067337036133\n",
      "\n",
      "Epoch: 30/100 Loss: 4.615530014038086\n",
      "\n",
      "Epoch: 40/100 Loss: 4.634069442749023\n",
      "\n",
      "Epoch: 50/100 Loss: 3.909419059753418\n",
      "\n",
      "Epoch: 60/100 Loss: 3.7053723335266113\n",
      "\n",
      "Epoch: 70/100 Loss: 3.2060959339141846\n",
      "\n",
      "Epoch: 80/100 Loss: 2.2623178958892822\n",
      "\n",
      "Epoch: 90/100 Loss: 2.1110401153564453\n",
      "\n",
      "Epoch: 100/100 Loss: 2.176313638687134\n",
      "\n"
     ]
    }
   ],
   "source": [
    "n_epochs = 100\n",
    "for epoch in range(1, n_epochs+1):\n",
    "    for batch_idx, batch_samples in enumerate(dataloader):\n",
    "        X_batch, y_batch = batch_samples\n",
    "        \n",
    "        # 예측값 출력\n",
    "        prediction = model(X_batch) # --> model.forward(X_train)\n",
    "\n",
    "        # 손실함수 계산\n",
    "        loss = F.mse_loss(prediction, y_batch)\n",
    "\n",
    "        # Gradient 초기화\n",
    "        optimizer.zero_grad()\n",
    "        # 오류 역전파를 통한 Gradient 계산\n",
    "        loss.backward()\n",
    "        # 가중치 업데이트\n",
    "        optimizer.step()\n",
    "\n",
    "    if epoch % 10 == 0:\n",
    "        print(f\"Epoch: {epoch}/{n_epochs} Loss: {loss.item()}\\n\")"
   ]
  },
  {
   "cell_type": "code",
   "execution_count": 306,
   "metadata": {
    "ExecuteTime": {
     "end_time": "2023-10-27T10:13:48.710232Z",
     "start_time": "2023-10-27T10:13:48.662669Z"
    }
   },
   "outputs": [],
   "source": [
    "y_hat_test = model(X_test)"
   ]
  },
  {
   "cell_type": "code",
   "execution_count": 307,
   "metadata": {
    "ExecuteTime": {
     "end_time": "2023-10-27T10:13:49.107833Z",
     "start_time": "2023-10-27T10:13:49.099742Z"
    }
   },
   "outputs": [
    {
     "name": "stdout",
     "output_type": "stream",
     "text": [
      "1.9357612133026123\n"
     ]
    }
   ],
   "source": [
    "print(F.mse_loss(y_hat_test, y_test).item())"
   ]
  },
  {
   "cell_type": "code",
   "execution_count": 308,
   "metadata": {
    "ExecuteTime": {
     "end_time": "2023-10-27T10:13:49.824941Z",
     "start_time": "2023-10-27T10:13:49.816710Z"
    }
   },
   "outputs": [],
   "source": [
    "X_test_visualize = pd.DataFrame(X_test.detach().numpy(), columns=independent_variables)"
   ]
  },
  {
   "cell_type": "code",
   "execution_count": 309,
   "metadata": {
    "ExecuteTime": {
     "end_time": "2023-10-27T10:13:50.283274Z",
     "start_time": "2023-10-27T10:13:50.276675Z"
    }
   },
   "outputs": [],
   "source": [
    "import matplotlib.pyplot as plt"
   ]
  },
  {
   "cell_type": "code",
   "execution_count": 310,
   "metadata": {
    "ExecuteTime": {
     "end_time": "2023-10-27T10:13:51.063624Z",
     "start_time": "2023-10-27T10:13:50.672237Z"
    },
    "scrolled": true
   },
   "outputs": [
    {
     "data": {
      "image/png": "[encoded data removed]",
      "text/plain": [
       "<Figure size 720x360 with 1 Axes>"
      ]
     },
     "metadata": {
      "needs_background": "light"
     },
     "output_type": "display_data"
    }
   ],
   "source": [
    "plt.figure(figsize=(10,5))\n",
    "plt.scatter(X_test_visualize[\"MedInc\"], y_test.detach().numpy(), label=\"True y_test\")\n",
    "plt.scatter(X_test_visualize[\"MedInc\"], y_hat_test.detach().numpy(), label=\"Predicted y_test\")\n",
    "plt.legend(prop={\"size\": 15})\n",
    "plt.show()"
   ]
  }
 ],
 "metadata": {
  "kernelspec": {
   "display_name": "DL",
   "language": "python",
   "name": "dl"
  },
  "language_info": {
   "codemirror_mode": {
    "name": "ipython",
    "version": 3
   },
   "file_extension": ".py",
   "mimetype": "text/x-python",
   "name": "python",
   "nbconvert_exporter": "python",
   "pygments_lexer": "ipython3",
   "version": "3.9.7"
  },
  "toc": {
   "base_numbering": 1,
   "nav_menu": {},
   "number_sections": true,
   "sideBar": true,
   "skip_h1_title": false,
   "title_cell": "Table of Contents",
   "title_sidebar": "Contents",
   "toc_cell": false,
   "toc_position": {},
   "toc_section_display": true,
   "toc_window_display": false
  }
 },
 "nbformat": 4,
 "nbformat_minor": 2
}
