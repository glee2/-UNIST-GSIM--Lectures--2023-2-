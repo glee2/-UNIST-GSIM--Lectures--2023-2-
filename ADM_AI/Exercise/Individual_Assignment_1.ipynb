{
 "cells": [
  {
   "cell_type": "markdown",
   "metadata": {},
   "source": [
    "# [BAT512] Advanced Data Mining with AI <br/><br/> 개인과제 1"
   ]
  },
  {
   "cell_type": "markdown",
   "metadata": {},
   "source": [
    "*구글 드라이브 연결과 라이브러리 임포트는 실습자료 참고하여 본인 경로에 맞게 설정하여 사용"
   ]
  },
  {
   "cell_type": "markdown",
   "metadata": {},
   "source": [
    "## Q1) 의료 보험비 데이터(medical_cost.csv)를 로드하여 data라는 이름의 pandas dataframe에 저장하시오\n",
    "- 수업 구글 드라이브(https://drive.google.com/drive/folders/1_XgKnBsZRG8Pbo73DXARm1HsplRgWrvo?usp=drive_link)의 [Assignment]-[data] 폴더에 있는 데이터를 본인 구글 드라이브로 복사하여 사용\n",
    "- 의료 보험비 데이터는 개인 특성에 따른 의료보험 비용을 나타낸 데이터\n",
    "    - 종속(Target)변수: \"charges\" - 의료보험 비용을 나타낸 연속형 데이터\n",
    "- Pandas 라이브러리 활용"
   ]
  },
  {
   "cell_type": "code",
   "execution_count": null,
   "metadata": {},
   "outputs": [],
   "source": []
  },
  {
   "cell_type": "markdown",
   "metadata": {},
   "source": [
    "## Q2) 데이터 형태와 결측치, 분포를 확인하여 출력하시오\n",
    "- Pandas 라이브러리 활용"
   ]
  },
  {
   "cell_type": "code",
   "execution_count": null,
   "metadata": {},
   "outputs": [],
   "source": []
  },
  {
   "cell_type": "markdown",
   "metadata": {},
   "source": [
    "## Q3) 나이(\"age\")가 40세 이상이며 흡연여부(\"smoker\")가 yes인 사람들의 데이터 샘플을 조건문을 통해 선택하여 출력하시오\n",
    "- Matplotlib 라이브러리 활용"
   ]
  },
  {
   "cell_type": "code",
   "execution_count": null,
   "metadata": {},
   "outputs": [],
   "source": []
  },
  {
   "cell_type": "markdown",
   "metadata": {},
   "source": [
    "## Q4) 수치형 변수들 간의 상관관계를 히트맵을 통해 시각화하여 출력하시오\n",
    "- matplotlib 또는 seaborn 라이브러리 활용"
   ]
  },
  {
   "cell_type": "code",
   "execution_count": null,
   "metadata": {},
   "outputs": [],
   "source": []
  },
  {
   "cell_type": "markdown",
   "metadata": {},
   "source": [
    "## Q5) 각 범주형 변수별 샘플 수를 출력하시오\n",
    "- Pandas 라이브러리 활용"
   ]
  },
  {
   "cell_type": "code",
   "execution_count": null,
   "metadata": {},
   "outputs": [],
   "source": []
  },
  {
   "cell_type": "markdown",
   "metadata": {},
   "source": [
    "## Q6) 각 범주형 변수를 레이블 인코딩을 통해 수치형 데이터로 변환하고, data를 변환된 변수로 업데이트하시오\n",
    "- sklearn 라이브러리 활용"
   ]
  },
  {
   "cell_type": "code",
   "execution_count": null,
   "metadata": {},
   "outputs": [],
   "source": []
  },
  {
   "cell_type": "markdown",
   "metadata": {},
   "source": [
    "## Q7) 데이터를 독립변수(X)와 종속변수(y)로 나누시오\n",
    "- Pandas 또는 Numpy 라이브러리 활용"
   ]
  },
  {
   "cell_type": "code",
   "execution_count": null,
   "metadata": {},
   "outputs": [],
   "source": []
  },
  {
   "cell_type": "markdown",
   "metadata": {},
   "source": [
    "## Q8) 변환된 데이터에 대해 선형 회귀 모델을 학습시키고, 회귀 모델의 회귀 계수(가중치 및 편향)와 적합도(r2_score)를 출력하시오\n",
    "- sklearn 라이브러리 활용"
   ]
  },
  {
   "cell_type": "code",
   "execution_count": null,
   "metadata": {},
   "outputs": [],
   "source": []
  }
 ],
 "metadata": {
  "kernelspec": {
   "display_name": "Python 3",
   "language": "python",
   "name": "python3"
  },
  "language_info": {
   "codemirror_mode": {
    "name": "ipython",
    "version": 3
   },
   "file_extension": ".py",
   "mimetype": "text/x-python",
   "name": "python",
   "nbconvert_exporter": "python",
   "pygments_lexer": "ipython3",
   "version": "3.6.9"
  },
  "toc": {
   "base_numbering": 1,
   "nav_menu": {},
   "number_sections": true,
   "sideBar": true,
   "skip_h1_title": false,
   "title_cell": "Table of Contents",
   "title_sidebar": "Contents",
   "toc_cell": false,
   "toc_position": {},
   "toc_section_display": true,
   "toc_window_display": false
  }
 },
 "nbformat": 4,
 "nbformat_minor": 2
}
